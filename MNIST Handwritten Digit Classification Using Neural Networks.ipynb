{
 "cells": [
  {
   "cell_type": "markdown",
   "id": "dc27250b",
   "metadata": {},
   "source": [
    "# Step 1 Data Acquisition and Visualization"
   ]
  },
  {
   "cell_type": "code",
   "execution_count": 19,
   "id": "8c578b31",
   "metadata": {},
   "outputs": [],
   "source": [
    "from sklearn.metrics import accuracy_score\n",
    "from matplotlib import pyplot as plt"
   ]
  },
  {
   "cell_type": "code",
   "execution_count": 20,
   "id": "696ab519",
   "metadata": {},
   "outputs": [
    {
     "name": "stdout",
     "output_type": "stream",
     "text": [
      "Train Images Shape: (60000, 28, 28)\n",
      "Train Labels Shape: (60000,)\n",
      "Test Images Shape: (10000, 28, 28)\n",
      "Test Labels Shape: (10000,)\n"
     ]
    }
   ],
   "source": [
    "import numpy as np\n",
    "import gzip\n",
    "import struct\n",
    "\n",
    "def read_idx(filename):\n",
    "    with gzip.open(filename, 'rb') as f:\n",
    "        zero, data_type, dims = struct.unpack('>HBB', f.read(4))\n",
    "        shape = tuple(struct.unpack('>I', f.read(4))[0] for d in range(dims))\n",
    "        return np.frombuffer(f.read(), dtype=np.uint8).reshape(shape)\n",
    "\n",
    "\n",
    "train_labels = read_idx(r\"train-labels-idx1-ubyte.gz\")\n",
    "train_images = read_idx(r\"train-images-idx3-ubyte.gz\")\n",
    "test_labels = read_idx(r\"t10k-labels-idx1-ubyte.gz\")\n",
    "test_images = read_idx(r\"t10k-images-idx3-ubyte.gz\")\n",
    "\n",
    "\n",
    "print(\"Train Images Shape:\", train_images.shape)\n",
    "print(\"Train Labels Shape:\", train_labels.shape)\n",
    "print(\"Test Images Shape:\", test_images.shape)\n",
    "print(\"Test Labels Shape:\", test_labels.shape)"
   ]
  },
  {
   "cell_type": "code",
   "execution_count": 21,
   "id": "44c8d99a",
   "metadata": {},
   "outputs": [
    {
     "data": {
      "image/png": "[encoded data removed]",
      "text/plain": [
       "<Figure size 640x480 with 1 Axes>"
      ]
     },
     "metadata": {},
     "output_type": "display_data"
    }
   ],
   "source": [
    "import matplotlib.pyplot as plt\n",
    "\n",
    "plt.imshow(train_images[634], cmap='gray')\n",
    "plt.title(f\"Label: {train_labels[634]}\")\n",
    "plt.axis('off')\n",
    "plt.show()"
   ]
  },
  {
   "cell_type": "markdown",
   "id": "204238df",
   "metadata": {},
   "source": [
    "# Step 2 Data Preprocessing"
   ]
  },
  {
   "cell_type": "code",
   "execution_count": 22,
   "id": "a62e4064",
   "metadata": {},
   "outputs": [
    {
     "data": {
      "text/plain": [
       "(784, 60000)"
      ]
     },
     "execution_count": 22,
     "metadata": {},
     "output_type": "execute_result"
    }
   ],
   "source": [
    "#(a) Normalize pixel values to be between 0 and 1\n",
    "\n",
    "#flattening the the train images\n",
    "\n",
    "x_train_images = train_images.reshape(60000, 784) \n",
    "x_test_images = test_images.reshape(10000, 784)   \n",
    "\n",
    "x_train_images = x_train_images.astype('float32')   \n",
    "x_test_images = x_test_images.astype('float32')\n",
    "\n",
    "x_train_images /= 255                        \n",
    "x_test_images /= 255\n",
    "\n",
    "x_train_images = x_train_images.T\n",
    "\n",
    "x_train_images.shape"
   ]
  },
  {
   "cell_type": "markdown",
   "id": "48d38df4",
   "metadata": {},
   "source": [
    "# Step 3 Network Initialization"
   ]
  },
  {
   "cell_type": "code",
   "execution_count": 23,
   "id": "64e802bc",
   "metadata": {},
   "outputs": [],
   "source": [
    "def sigmoid(x):\n",
    "    #Sigmoid activation function.\n",
    "    return 1/(np.exp(-x)+1)\n",
    "\n",
    "def d_dx_sigmoid(x):\n",
    "    #Derivative of the sigmoid activation function.\n",
    "    return (np.exp(-x))/((np.exp(-x)+1)**2)\n",
    "\n",
    "def softmax(x):\n",
    "    exp_element=np.exp(x-x.max())\n",
    "    return exp_element/np.sum(exp_element,axis=0)\n",
    "\n",
    "def d_dx_softmax(x):\n",
    "    #Softmax activation function for an array.\n",
    "    exp_element=np.exp(x-x.max())\n",
    "    return exp_element/np.sum(exp_element,axis=0)*(1-exp_element/np.sum(exp_element,axis=0))"
   ]
  },
  {
   "cell_type": "code",
   "execution_count": 24,
   "id": "2391eee9",
   "metadata": {},
   "outputs": [],
   "source": [
    "# (b) Convert labels to numerical values using one-hot encoding with NumPy eye function\n",
    "def one_hot_encoding(labels, num=10):\n",
    "        output = np.zeros((labels.shape[0], num))\n",
    "        for i, y in enumerate(labels):\n",
    "            output[i][y] = 1\n",
    "        output = output.T\n",
    "        return output"
   ]
  },
  {
   "cell_type": "code",
   "execution_count": 25,
   "id": "aa9578da",
   "metadata": {},
   "outputs": [],
   "source": [
    "# Implements a 3-layer neural network feedforward pass\n",
    "def feed_forward(x, w1, w2, w3, b1, b2, b3):\n",
    "    \n",
    "    # Calculate the linear combination for the first layer\n",
    "    z1 = np.dot(w1, x.T) + b1\n",
    "    \n",
    "    # Apply sigmoid activation function\n",
    "    a1 = sigmoid(z1) \n",
    "\n",
    "    # Calculate linear combination for the second layer  \n",
    "    z2 = np.dot(w2,a1) + b2\n",
    "    \n",
    "    # Apply sigmoid activation function\n",
    "    a2 = sigmoid(z2)\n",
    "\n",
    "    # Calculate linear combination for the third layer\n",
    "    z3 = np.dot(w3,a2) + b3\n",
    "    \n",
    "    # Apply sigmoid activation function \n",
    "    a3 = softmax(z3)\n",
    "\n",
    "    # Return the intermediate variables for analysis\n",
    "    return z1,a1,z2,a2,z3,a3"
   ]
  },
  {
   "cell_type": "markdown",
   "id": "4310832c",
   "metadata": {},
   "source": [
    "# Step 5 Back Propagation"
   ]
  },
  {
   "cell_type": "code",
   "execution_count": 26,
   "id": "2b51e1b0",
   "metadata": {},
   "outputs": [],
   "source": [
    "def categorical_crossentropy(y_true, y_pred):\n",
    "    n_samples = y_true.shape[0]\n",
    "    y_pred_clipped = np.clip(y_pred, 1e-12, 1 - 1e-12)\n",
    "    return -np.sum(y_true * np.log(y_pred_clipped)) / n_samples"
   ]
  },
  {
   "cell_type": "code",
   "execution_count": 27,
   "id": "7364b772",
   "metadata": {},
   "outputs": [],
   "source": [
    "# Implements backpropagation to calculate gradients\n",
    "def back_propagation(z1,a1,z2,a2,a3,w2,w3,x,y):\n",
    "\n",
    "  # Number of examples\n",
    "  m = y.size \n",
    "  \n",
    "  # One-hot encode the target labels\n",
    "  one_hot_y = one_hot_encoding(y)  \n",
    "  \n",
    "  # Calculate error for output layer\n",
    "  dz3 = a3 - one_hot_y\n",
    "  \n",
    "  # Transpose a2 for upcoming calculations\n",
    "  a2 = a2.T\n",
    "  \n",
    "  # Calculate gradient for w3\n",
    "  dw3 = 1/m * np.dot(dz3,a2)\n",
    "  \n",
    "  # Calculate gradient for b3\n",
    "  db3 = 1/m * np.sum(dz3)\n",
    "\n",
    "  # Transpose w3 for upcoming calculations\n",
    "  w3 = w3.T\n",
    "\n",
    "  # Calculate error term for middle layer\n",
    "  dz2 = np.dot(w3, dz3) * d_dx_sigmoid(z2)\n",
    "\n",
    "  # Transpose a1 for upcoming calculations\n",
    "  a1 = a1.T\n",
    "\n",
    "  # Calculate gradient for w2 \n",
    "  dw2 = 1/m * np.dot(dz2,a1)\n",
    "\n",
    "  # Calculate gradient for b2\n",
    "  db2 = 1/m * np.sum(dz2)\n",
    "\n",
    "  # Transpose w2 for upcoming calculations\n",
    "  w2 = w2.T\n",
    "\n",
    "  # Calculate error term for input layer\n",
    "  dz1 = np.dot(w2,dz2) * d_dx_sigmoid(z1)\n",
    "\n",
    "  # Transpose x for upcoming calculations\n",
    "  # x = x.T\n",
    "\n",
    "  # Calculate gradient for w1\n",
    "  dw1 = 1/m * np.dot(dz1,x)\n",
    "\n",
    "  # Calculate gradient for b1\n",
    "  db1 = 1/m * np.sum(dz1)\n",
    "  \n",
    "  # Return the gradients\n",
    "  return dw1, db1, dw2, db2, dw3, db3\n",
    "\n",
    "# Update weights and biases using gradients and learning rate\n",
    "def update_values(w1,b1,w2,b2,w3,b3,dw1, db1, dw2, db2, dw3, db3, alpha):\n",
    "\n",
    "  # Update each weight and bias\n",
    "  w1 = w1 - alpha*dw1 \n",
    "  b1 = b1 - alpha*db1\n",
    "  w2 = w2 - alpha*dw2\n",
    "  b2 = b2 - alpha*db2\n",
    "  w3 = w3 - alpha*dw3\n",
    "  b3 = b3 - alpha*db3\n",
    "\n",
    "  return w1, b1, w2, b2, w3, b3"
   ]
  },
  {
   "cell_type": "markdown",
   "id": "20c8f676",
   "metadata": {},
   "source": [
    "# Step 6 Model Training"
   ]
  },
  {
   "cell_type": "code",
   "execution_count": 35,
   "id": "bc9ff46a",
   "metadata": {},
   "outputs": [],
   "source": [
    "# Implement mini-batch gradient descent\n",
    "def mini_batch_gradient_descent(x_train, y_train, batch_size, epochs):\n",
    "\n",
    "  # Initialize weights and biases randomly \n",
    "  np.random.seed(695) \n",
    "  w1 = np.random.randn(128,784)\n",
    "  w2 = np.random.randn(64,128)\n",
    "  w3 = np.random.randn(10,64)\n",
    "  b1 = np.random.randn(128,1)\n",
    "  b2 = np.random.randn(64,1)\n",
    "  b3 = np.random.randn(10,1)\n",
    "\n",
    "  # Learning rate\n",
    "  alpha = 0.05\n",
    "  \n",
    "  # Transpose x_train for calculations\n",
    "  x_train = x_train.T\n",
    "  \n",
    "  # Total number of examples\n",
    "  m = x_train.shape[0]\n",
    "  \n",
    "  for epoch in range(epochs):\n",
    "    \n",
    "    # Iterate over batches\n",
    "    for batch_start in range(0, m, batch_size):\n",
    "      \n",
    "      # Batch endpoints\n",
    "        batch_end = batch_start + batch_size\n",
    "      \n",
    "      # Extract batch\n",
    "        x_batch = x_train[batch_start:batch_end]\n",
    "        y_batch = y_train[batch_start:batch_end]\n",
    "      \n",
    "      # Forward pass\n",
    "        z1,a1,z2,a2,z3,a3 = feed_forward(x_batch, w1,w2,w3,b1,b2,b3)\n",
    "      \n",
    "      # Backprop\n",
    "        dw1, db1, dw2, db2, dw3, db3 = back_propagation(z1,a1,z2,a2,a3,w2,w3,x_batch,y_batch)\n",
    "      \n",
    "      # Update weights and biases\n",
    "        w1, b1, w2, b2, w3, b3 = update_values(w1,b1,w2,b2,w3,b3,dw1, db1, dw2, db2, dw3, db3, alpha)\n",
    "\n",
    "      # Calculate loss\n",
    "    loss = categorical_crossentropy(y_batch, a3)\n",
    "    predictions = predict(a3)\n",
    "\n",
    "        \n",
    "  # Print metrics\n",
    "  print(\"Accuracy\", accuracy_score(predictions, y_batch))\n",
    "\n",
    "  # Return updated weights and biases\n",
    "  return w1, b1, w2, b2, w3, b3\n",
    "\n",
    "# Predictions from output layer\n",
    "def predict(A2):\n",
    "  return np.argmax(A2, 0)"
   ]
  },
  {
   "cell_type": "code",
   "execution_count": 36,
   "id": "4c67b92e",
   "metadata": {},
   "outputs": [
    {
     "name": "stdout",
     "output_type": "stream",
     "text": [
      "Accuracy 0.9791666666666666\n"
     ]
    }
   ],
   "source": [
    "w1, b1, w2, b2, w3, b3 = mini_batch_gradient_descent(x_train_images,train_labels, batch_size=128, epochs=100)"
   ]
  },
  {
   "cell_type": "markdown",
   "id": "f9e68904",
   "metadata": {},
   "source": [
    "# Step 7 Model Evaluation"
   ]
  },
  {
   "cell_type": "code",
   "execution_count": 37,
   "id": "aad8eedc",
   "metadata": {},
   "outputs": [
    {
     "data": {
      "text/plain": [
       "array([7, 2, 1, ..., 4, 5, 6], dtype=int64)"
      ]
     },
     "execution_count": 37,
     "metadata": {},
     "output_type": "execute_result"
    }
   ],
   "source": [
    "# Forward pass through network with test images \n",
    "# Don't need intermediate variables\n",
    "_,_,_,_,_,a3 = feed_forward(x_test_images, w1,w2,w3,b1,b2,b3)\n",
    "\n",
    "# Get predictions by taking the argmax of output layer activations\n",
    "predictions = predict(a3) \n",
    "\n",
    "# predictions contains the predicted classes for each test image\n",
    "predictions"
   ]
  },
  {
   "cell_type": "code",
   "execution_count": 38,
   "id": "b0b87ebc",
   "metadata": {},
   "outputs": [
    {
     "data": {
      "text/plain": [
       "0.9263"
      ]
     },
     "execution_count": 38,
     "metadata": {},
     "output_type": "execute_result"
    }
   ],
   "source": [
    "# Calculate accuracy comparing true test labels vs predicted labels\n",
    "accuracy_score(test_labels, predictions)\n",
    "\n",
    "#For each example, if prediction == true label -> correct\n",
    "#Accuracy = num correct / total examples\n",
    "#So this gives us the overall accuracy of the trained model on the hold out test set.\n"
   ]
  },
  {
   "cell_type": "code",
   "execution_count": 39,
   "id": "2a35b182",
   "metadata": {},
   "outputs": [
    {
     "data": {
      "text/plain": [
       "'Looking at individual misclassified examples can provide insight into why \\nthe model is failing on those instances. We can see if there are any patterns \\nin the types of images being misclassified.This can help identify weaknesses  \\nin the model and areas where augmentation or other techniques could help improve performance.'"
      ]
     },
     "execution_count": 39,
     "metadata": {},
     "output_type": "execute_result"
    },
    {
     "data": {
      "image/png": "[encoded data removed]",
      "text/plain": [
       "<Figure size 640x480 with 1 Axes>"
      ]
     },
     "metadata": {},
     "output_type": "display_data"
    }
   ],
   "source": [
    "# Get indices where predicted label != true label\n",
    "wrongimages = test_images[test_labels != predictions]\n",
    "\n",
    "# Display one of the misclassified images \n",
    "plt.title(f'the predicted value is {predictions[2]}')\n",
    "plt.imshow(wrongimages[2], cmap='gray')\n",
    "\n",
    "'''Looking at individual misclassified examples can provide insight into why \n",
    "the model is failing on those instances. We can see if there are any patterns \n",
    "in the types of images being misclassified.This can help identify weaknesses  \n",
    "in the model and areas where augmentation or other techniques could help improve performance.'''"
   ]
  },
  {
   "cell_type": "code",
   "execution_count": 40,
   "id": "1032422d",
   "metadata": {},
   "outputs": [
    {
     "data": {
      "text/plain": [
       "<matplotlib.image.AxesImage at 0x23ce44c0c10>"
      ]
     },
     "execution_count": 40,
     "metadata": {},
     "output_type": "execute_result"
    },
    {
     "data": {
      "image/png": "[encoded data removed]",
      "text/plain": [
       "<Figure size 640x480 with 1 Axes>"
      ]
     },
     "metadata": {},
     "output_type": "display_data"
    }
   ],
   "source": [
    "plt.title(f'the predicted value is {predictions[18]}')\n",
    "plt.imshow(wrongimages[18], cmap='gray')"
   ]
  },
  {
   "cell_type": "code",
   "execution_count": 41,
   "id": "08267d75",
   "metadata": {},
   "outputs": [
    {
     "data": {
      "text/plain": [
       "<matplotlib.image.AxesImage at 0x23ce4cccee0>"
      ]
     },
     "execution_count": 41,
     "metadata": {},
     "output_type": "execute_result"
    },
    {
     "data": {
      "image/png": "[encoded data removed]",
      "text/plain": [
       "<Figure size 640x480 with 1 Axes>"
      ]
     },
     "metadata": {},
     "output_type": "display_data"
    }
   ],
   "source": [
    "plt.title(f'the predicted value is {predictions[245]}')\n",
    "plt.imshow(wrongimages[245], cmap='gray')"
   ]
  },
  {
   "cell_type": "code",
   "execution_count": null,
   "id": "b88f38a1",
   "metadata": {},
   "outputs": [],
   "source": [
    "\n"
   ]
  }
 ],
 "metadata": {
  "kernelspec": {
   "display_name": "Python 3 (ipykernel)",
   "language": "python",
   "name": "python3"
  },
  "language_info": {
   "codemirror_mode": {
    "name": "ipython",
    "version": 3
   },
   "file_extension": ".py",
   "mimetype": "text/x-python",
   "name": "python",
   "nbconvert_exporter": "python",
   "pygments_lexer": "ipython3",
   "version": "3.9.13"
  }
 },
 "nbformat": 4,
 "nbformat_minor": 5
}
